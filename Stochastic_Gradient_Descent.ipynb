{
  "nbformat": 4,
  "nbformat_minor": 0,
  "metadata": {
    "kernelspec": {
      "display_name": "Python 3",
      "language": "python",
      "name": "python3"
    },
    "language_info": {
      "codemirror_mode": {
        "name": "ipython",
        "version": 3
      },
      "file_extension": ".py",
      "mimetype": "text/x-python",
      "name": "python",
      "nbconvert_exporter": "python",
      "pygments_lexer": "ipython3",
      "version": "3.7.1"
    },
    "colab": {
      "name": "Stochastic Gradient Descent",
      "provenance": [],
      "include_colab_link": true
    }
  },
  "cells": [
    {
      "cell_type": "markdown",
      "metadata": {
        "id": "view-in-github",
        "colab_type": "text"
      },
      "source": [
        "<a href=\"https://colab.research.google.com/github/TheGreymanShow/pytorch-stochastic-gradient-descent-from-scratch/blob/master/Stochastic_Gradient_Descent.ipynb\" target=\"_parent\"><img src=\"https://colab.research.google.com/assets/colab-badge.svg\" alt=\"Open In Colab\"/></a>"
      ]
    },
    {
      "cell_type": "code",
      "metadata": {
        "id": "Xe47_06WrRqx",
        "colab_type": "code",
        "colab": {}
      },
      "source": [
        "import numpy as np\n",
        "import pandas as pd\n",
        "import matplotlib.pyplot as plt\n",
        "from sklearn.datasets import make_regression"
      ],
      "execution_count": 1,
      "outputs": []
    },
    {
      "cell_type": "code",
      "metadata": {
        "id": "JNHexkaKuuuS",
        "colab_type": "code",
        "colab": {}
      },
      "source": [
        "def mse(y_pred, y_true):\n",
        "    return np.sum((y_pred - y_true)**2) / len(y_true)"
      ],
      "execution_count": 2,
      "outputs": []
    },
    {
      "cell_type": "code",
      "metadata": {
        "id": "l91NiUMtvBjz",
        "colab_type": "code",
        "colab": {
          "base_uri": "https://localhost:8080/",
          "height": 34
        },
        "outputId": "618e3a61-fdd3-486e-8259-70ba1932aaa2"
      },
      "source": [
        "a = np.array([2,2,2,2])\n",
        "b = np.array([1,1,1,1])\n",
        "\n",
        "print(mse(a,b))"
      ],
      "execution_count": null,
      "outputs": [
        {
          "output_type": "stream",
          "text": [
            "1.0\n"
          ],
          "name": "stdout"
        }
      ]
    },
    {
      "cell_type": "code",
      "metadata": {
        "id": "j3WRQwsyrRq8",
        "colab_type": "code",
        "colab": {}
      },
      "source": [
        "def generating_dataset_for_regression(noise, n_samples):\n",
        "    X, y, z = make_regression(n_samples, n_features=1, noise=noise, coef = True)\n",
        "    X = pd.Series([x[0] for x in X])\n",
        "    Y = pd.Series(y)\n",
        "    return [X, Y, z]"
      ],
      "execution_count": 131,
      "outputs": []
    },
    {
      "cell_type": "code",
      "metadata": {
        "id": "5pf8Pe_xlKLn",
        "colab_type": "code",
        "colab": {}
      },
      "source": [
        "def next_batch(X, y, batchSize):\n",
        "\t# loop over our dataset `X` in mini-batches of size `batchSize`\n",
        "\tfor i in np.arange(0, X.shape[0], batchSize):\n",
        "\t\t# yield a tuple of the current batched data and labels\n",
        "\t\tyield (X[i:i + batchSize], y[i:i + batchSize])"
      ],
      "execution_count": 132,
      "outputs": []
    },
    {
      "cell_type": "code",
      "metadata": {
        "id": "SpSUE27YlLDY",
        "colab_type": "code",
        "colab": {
          "base_uri": "https://localhost:8080/",
          "height": 34
        },
        "outputId": "9ffb6c9f-5d87-4901-dd70-9e59a9347c2f"
      },
      "source": [
        "X, Y, true_coef  = generating_dataset_for_regression(1, 640)\n",
        "\n",
        "z = next_batch(X, Y, 32)\n",
        "\n",
        "count=0\n",
        "for _ in z:\n",
        "  count+=1\n",
        "\n",
        "print(count)"
      ],
      "execution_count": 134,
      "outputs": [
        {
          "output_type": "stream",
          "text": [
            "20\n"
          ],
          "name": "stdout"
        }
      ]
    },
    {
      "cell_type": "code",
      "metadata": {
        "id": "l0PB27pMrRq_",
        "colab_type": "code",
        "colab": {}
      },
      "source": [
        "# Building the model for ols using gradient descent\n",
        "def gradient_descent_ols(X, Y, init_weights, learning_rate, max_epochs):\n",
        "    w0 = init_weights[0]\n",
        "    w1 = init_weights[1]\n",
        "\n",
        "    L = learning_rate  # The learning Rate\n",
        "    epochs = max_epochs  # The number of iterations to perform gradient descent\n",
        "\n",
        "    n = float(len(Y)) # Number of elements in dataset\n",
        "\n",
        "    loss = []\n",
        "\n",
        "    # Performing Gradient Descent \n",
        "    for epoch in range(epochs):\n",
        "      epochLoss = []\n",
        "\n",
        "      for (batch_X, batch_Y) in next_batch(X, Y, 8):\n",
        "\n",
        "        Y_pred = (w1*batch_X) + w0    # The current predicted value of Y\n",
        "\n",
        "        D_w0 = 2 * sum(Y_pred - batch_Y) / 8               # Derivative wrt w0\n",
        "        D_w1 = 2 * sum(batch_X * (Y_pred - batch_Y)) / 8   # Derivative wrt w1\n",
        " \n",
        "        w0 = w0 - L * D_w0  # Update w0\n",
        "        w1 = w1 - L * D_w1  # Update w1\n",
        "\n",
        "        error = mse(Y_pred, Y)\n",
        "        epochLoss.append(error)\n",
        "      \n",
        "      loss.append(np.average(epochLoss))\n",
        "\n",
        "    return loss"
      ],
      "execution_count": 144,
      "outputs": []
    },
    {
      "cell_type": "code",
      "metadata": {
        "id": "wxp2orJsrRrG",
        "colab_type": "code",
        "colab": {}
      },
      "source": [
        "#c closed form\n",
        "def closed_form_ols(X, y):\n",
        "    X0 = np.ones(len(X))\n",
        "    mat_A = np.column_stack(( X0, X))\n",
        "    return np.linalg.inv(mat_A.T @ mat_A) @ mat_A.T @ y"
      ],
      "execution_count": 59,
      "outputs": []
    },
    {
      "cell_type": "code",
      "metadata": {
        "id": "BHquRSg-rRrJ",
        "colab_type": "code",
        "colab": {
          "base_uri": "https://localhost:8080/",
          "height": 34
        },
        "outputId": "04c11d23-27d6-479d-95a6-bed12141d23a"
      },
      "source": [
        "#generate 5 datasets\n",
        "datasets = []\n",
        "for i in range(1):\n",
        "    X, Y, true_coef  = generating_dataset_for_regression(0, 104)\n",
        "    print(\"true coef for dataset \",i ,\"is : \",true_coef)\n",
        "    datasets.append([X, Y])"
      ],
      "execution_count": 145,
      "outputs": [
        {
          "output_type": "stream",
          "text": [
            "true coef for dataset  0 is :  18.685505747030206\n"
          ],
          "name": "stdout"
        }
      ]
    },
    {
      "cell_type": "code",
      "metadata": {
        "id": "yLRAoTTYrRrQ",
        "colab_type": "code",
        "colab": {}
      },
      "source": [
        "for X, target in datasets:\n",
        "    loss = gradient_descent_ols(X, target, [0, 0, 0], 0.001, 5000)\n",
        "    loss2 = gradient_descent_ols(X, target, [0, 0, 0], 0.0001, 5000)"
      ],
      "execution_count": 168,
      "outputs": []
    },
    {
      "cell_type": "code",
      "metadata": {
        "id": "7QaYkvIhxMr0",
        "colab_type": "code",
        "colab": {}
      },
      "source": [
        "for X, target in datasets:\n",
        " "
      ],
      "execution_count": 161,
      "outputs": []
    },
    {
      "cell_type": "code",
      "metadata": {
        "id": "aaNAeFojrRrb",
        "colab_type": "code",
        "colab": {
          "base_uri": "https://localhost:8080/",
          "height": 34
        },
        "outputId": "e568c047-a89d-46a5-e200-06f94dac3ff3"
      },
      "source": [
        "print(len(loss))"
      ],
      "execution_count": 96,
      "outputs": [
        {
          "output_type": "stream",
          "text": [
            "500\n"
          ],
          "name": "stdout"
        }
      ]
    },
    {
      "cell_type": "code",
      "metadata": {
        "id": "TSN3i8RSrRrk",
        "colab_type": "code",
        "colab": {
          "base_uri": "https://localhost:8080/",
          "height": 279
        },
        "outputId": "890b4238-5054-4f4a-d950-ef6562e89846"
      },
      "source": [
        "import matplotlib.pyplot as plt\n",
        "y = loss[:2000]\n",
        "x = np.arange(1, 2001, 1)\n",
        "plt.plot(x, y)\n",
        "plt.xlabel(\"iterations\")\n",
        "plt.ylabel(\"loss\")\n",
        "plt.show()"
      ],
      "execution_count": 171,
      "outputs": [
        {
          "output_type": "display_data",
          "data": {
            "image/png": "[encoded data removed]",
            "text/plain": [
              "<Figure size 432x288 with 1 Axes>"
            ]
          },
          "metadata": {
            "tags": [],
            "needs_background": "light"
          }
        }
      ]
    },
    {
      "cell_type": "code",
      "metadata": {
        "id": "D0TG2dx1v1PI",
        "colab_type": "code",
        "colab": {
          "base_uri": "https://localhost:8080/",
          "height": 279
        },
        "outputId": "894b6f68-6a4d-4910-931b-b144648fd31b"
      },
      "source": [
        "import matplotlib.pyplot as plt\n",
        "import math\n",
        "\n",
        "y = loss2[:2000]\n",
        "x = np.arange(1, 2001, 1)\n",
        "plt.plot(x, y)\n",
        "plt.xlabel(\"iterations\")\n",
        "plt.ylabel(\"loss\")\n",
        "plt.show()"
      ],
      "execution_count": 172,
      "outputs": [
        {
          "output_type": "display_data",
          "data": {
            "image/png": "[encoded data removed]",
            "text/plain": [
              "<Figure size 432x288 with 1 Axes>"
            ]
          },
          "metadata": {
            "tags": [],
            "needs_background": "light"
          }
        }
      ]
    },
    {
      "cell_type": "code",
      "metadata": {
        "id": "Y3I8gHt_wZ3G",
        "colab_type": "code",
        "colab": {
          "base_uri": "https://localhost:8080/",
          "height": 185
        },
        "outputId": "e32cc191-6a46-4661-e077-c090f26f6fe1"
      },
      "source": [
        "loss2[-10:]"
      ],
      "execution_count": 119,
      "outputs": [
        {
          "output_type": "execute_result",
          "data": {
            "text/plain": [
              "[26.85764937369315,\n",
              " 26.854784844692656,\n",
              " 26.851923852432563,\n",
              " 26.84906639234838,\n",
              " 26.846212459881805,\n",
              " 26.84336205048069,\n",
              " 26.840515159599025,\n",
              " 26.83767178269704,\n",
              " 26.83483191524109,\n",
              " 26.831995552703628]"
            ]
          },
          "metadata": {
            "tags": []
          },
          "execution_count": 119
        }
      ]
    },
    {
      "cell_type": "code",
      "metadata": {
        "id": "GvM51rpkypT4",
        "colab_type": "code",
        "colab": {}
      },
      "source": [
        ""
      ],
      "execution_count": null,
      "outputs": []
    }
  ]
}